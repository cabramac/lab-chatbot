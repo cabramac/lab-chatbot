{
 "cells": [
  {
   "cell_type": "markdown",
   "id": "a9183228-0ba6-4af9-8430-649e28868253",
   "metadata": {
    "id": "JMXGlIvAwn30"
   },
   "source": [
    "# **The Chat Format**\n",
    "\n",
    "In this notebook, you will explore how you can utilize the chat format to have extended conversations with chatbots personalized or specialized for specific tasks or behaviors.\n",
    "\n",
    "## Setup"
   ]
  },
  {
   "cell_type": "code",
   "execution_count": 1,
   "id": "7fa0d9b5",
   "metadata": {
    "tags": []
   },
   "outputs": [],
   "source": [
    "from openai import OpenAI\n",
    "import os\n",
    "\n",
    "from dotenv import load_dotenv, find_dotenv\n",
    "_ = load_dotenv(find_dotenv()) # read local .env file\n",
    "\n",
    "OPENAI_API_KEY  = os.getenv('OPENAI_API_KEY')"
   ]
  },
  {
   "cell_type": "code",
   "execution_count": 2,
   "id": "f5308d65",
   "metadata": {
    "tags": []
   },
   "outputs": [],
   "source": [
    "client = OpenAI(\n",
    "    # This is the default and can be omitted\n",
    "    api_key=OPENAI_API_KEY,\n",
    ")\n",
    "\n",
    "def get_completion(prompt, model=\"gpt-3.5-turbo\", temperature=0): \n",
    "    messages = [{\"role\": \"user\", \"content\": prompt}]\n",
    "    response = client.chat.completions.create(\n",
    "        model=model,\n",
    "        messages=messages,\n",
    "        temperature=temperature, \n",
    "    )\n",
    "    return response.choices[0].message.content\n",
    "\n",
    "\n",
    "def get_completion_from_messages(messages, model=\"gpt-3.5-turbo\", temperature=0): \n",
    "    response = client.chat.completions.create(\n",
    "        model=model,\n",
    "        messages=messages,\n",
    "        temperature=temperature, \n",
    "    )\n",
    "    return response.choices[0].message.content"
   ]
  },
  {
   "cell_type": "code",
   "execution_count": 3,
   "id": "cee681b7",
   "metadata": {
    "tags": []
   },
   "outputs": [],
   "source": [
    "messages =  [  \n",
    "{'role':'system', 'content':'You are an assistant that speaks like Shakespeare.'},    \n",
    "{'role':'user', 'content':'tell me a joke'},   \n",
    "{'role':'assistant', 'content':'Why did the chicken cross the road'},   \n",
    "{'role':'user', 'content':'I don\\'t know'}  ]"
   ]
  },
  {
   "cell_type": "code",
   "execution_count": 4,
   "id": "da45ea0f",
   "metadata": {
    "tags": []
   },
   "outputs": [
    {
     "name": "stdout",
     "output_type": "stream",
     "text": [
      "To get to the other side! Alas, a classic jest to tickle thy funny bone.\n"
     ]
    }
   ],
   "source": [
    "response = get_completion_from_messages(messages, temperature=1)\n",
    "print(response)"
   ]
  },
  {
   "cell_type": "code",
   "execution_count": 5,
   "id": "ca733f8f",
   "metadata": {
    "tags": []
   },
   "outputs": [
    {
     "name": "stdout",
     "output_type": "stream",
     "text": [
      "Hello Isa! It's nice to meet you. How can I assist you today?\n"
     ]
    }
   ],
   "source": [
    "messages =  [  \n",
    "{'role':'system', 'content':'You are friendly chatbot.'},    \n",
    "{'role':'user', 'content':'Hi, my name is Isa'}]\n",
    "response = get_completion_from_messages(messages, temperature=1)\n",
    "print(response)"
   ]
  },
  {
   "cell_type": "code",
   "execution_count": 6,
   "id": "0ae595bc",
   "metadata": {
    "tags": []
   },
   "outputs": [
    {
     "name": "stdout",
     "output_type": "stream",
     "text": [
      "I'm sorry, but I don't have access to your personal information such as your name. However, if you feel comfortable sharing your name with me, I'd be happy to call you by it!\n"
     ]
    }
   ],
   "source": [
    "messages =  [  \n",
    "{'role':'system', 'content':'You are friendly chatbot.'},    \n",
    "{'role':'user', 'content':'Yes,  can you remind me, What is my name?'}  ]\n",
    "response = get_completion_from_messages(messages, temperature=1)\n",
    "print(response)"
   ]
  },
  {
   "cell_type": "code",
   "execution_count": 7,
   "id": "56cbb817",
   "metadata": {
    "tags": []
   },
   "outputs": [
    {
     "name": "stdout",
     "output_type": "stream",
     "text": [
      "Your name is Isa.\n"
     ]
    }
   ],
   "source": [
    "messages =  [  \n",
    "{'role':'system', 'content':'You are friendly chatbot.'},\n",
    "{'role':'user', 'content':'Hi, my name is Isa'},\n",
    "{'role':'assistant', 'content': \"Hi Isa! It's nice to meet you. \\\n",
    "Is there anything I can help you with today?\"},\n",
    "{'role':'user', 'content':'Yes, you can remind me, What is my name?'}  ]\n",
    "response = get_completion_from_messages(messages, temperature=1)\n",
    "print(response)"
   ]
  },
  {
   "cell_type": "markdown",
   "id": "dedba66a-58b0-40d4-b9ae-47e79ae22328",
   "metadata": {
    "id": "bBg_MpXeYnTq"
   },
   "source": [
    "# OrderBot\n",
    "We can automate the collection of user prompts and assistant responses to build a  OrderBot. The OrderBot will take orders at a pizza restaurant. "
   ]
  },
  {
   "cell_type": "code",
   "execution_count": 8,
   "id": "e76749ac",
   "metadata": {
    "tags": []
   },
   "outputs": [],
   "source": [
    "def collect_messages(_):\n",
    "    prompt = inp.value_input\n",
    "    inp.value = ''\n",
    "    context.append({'role':'user', 'content':f\"{prompt}\"})\n",
    "    response = get_completion_from_messages(context) \n",
    "    context.append({'role':'assistant', 'content':f\"{response}\"})\n",
    "    panels.append(\n",
    "        pn.Row('User:', pn.pane.Markdown(prompt, width=600)))\n",
    "    panels.append(\n",
    "        pn.Row('Assistant:', pn.pane.Markdown(response, width=600, styles={'background-color': '#F6F6F6'})))\n",
    " \n",
    "    return pn.Column(*panels)\n"
   ]
  },
  {
   "cell_type": "code",
   "execution_count": 9,
   "id": "9828a682",
   "metadata": {},
   "outputs": [
    {
     "name": "stdout",
     "output_type": "stream",
     "text": [
      "Requirement already satisfied: panel in c:\\users\\macat\\anaconda3\\envs\\ironhack1\\lib\\site-packages (1.7.5)Note: you may need to restart the kernel to use updated packages.\n",
      "\n",
      "Requirement already satisfied: bokeh in c:\\users\\macat\\anaconda3\\envs\\ironhack1\\lib\\site-packages (3.7.3)\n",
      "Requirement already satisfied: param in c:\\users\\macat\\anaconda3\\envs\\ironhack1\\lib\\site-packages (2.2.1)\n",
      "Requirement already satisfied: bleach in c:\\users\\macat\\anaconda3\\envs\\ironhack1\\lib\\site-packages (from panel) (6.2.0)\n",
      "Requirement already satisfied: linkify-it-py in c:\\users\\macat\\anaconda3\\envs\\ironhack1\\lib\\site-packages (from panel) (2.0.3)\n",
      "Requirement already satisfied: markdown in c:\\users\\macat\\anaconda3\\envs\\ironhack1\\lib\\site-packages (from panel) (3.8)\n",
      "Requirement already satisfied: markdown-it-py in c:\\users\\macat\\anaconda3\\envs\\ironhack1\\lib\\site-packages (from panel) (2.2.0)\n",
      "Requirement already satisfied: mdit-py-plugins in c:\\users\\macat\\anaconda3\\envs\\ironhack1\\lib\\site-packages (from panel) (0.5.0)\n",
      "Requirement already satisfied: packaging in c:\\users\\macat\\anaconda3\\envs\\ironhack1\\lib\\site-packages (from panel) (24.2)\n",
      "Requirement already satisfied: pandas>=1.2 in c:\\users\\macat\\anaconda3\\envs\\ironhack1\\lib\\site-packages (from panel) (2.2.3)\n",
      "Requirement already satisfied: pyviz-comms>=2.0.0 in c:\\users\\macat\\anaconda3\\envs\\ironhack1\\lib\\site-packages (from panel) (3.0.6)\n",
      "Requirement already satisfied: requests in c:\\users\\macat\\anaconda3\\envs\\ironhack1\\lib\\site-packages (from panel) (2.32.3)\n",
      "Requirement already satisfied: tqdm in c:\\users\\macat\\anaconda3\\envs\\ironhack1\\lib\\site-packages (from panel) (4.67.1)\n",
      "Requirement already satisfied: typing-extensions in c:\\users\\macat\\anaconda3\\envs\\ironhack1\\lib\\site-packages (from panel) (4.12.2)\n",
      "Requirement already satisfied: Jinja2>=2.9 in c:\\users\\macat\\anaconda3\\envs\\ironhack1\\lib\\site-packages (from bokeh) (3.1.6)\n",
      "Requirement already satisfied: contourpy>=1.2 in c:\\users\\macat\\anaconda3\\envs\\ironhack1\\lib\\site-packages (from bokeh) (1.3.1)\n",
      "Requirement already satisfied: narwhals>=1.13 in c:\\users\\macat\\anaconda3\\envs\\ironhack1\\lib\\site-packages (from bokeh) (2.2.0)\n",
      "Requirement already satisfied: numpy>=1.16 in c:\\users\\macat\\anaconda3\\envs\\ironhack1\\lib\\site-packages (from bokeh) (1.26.4)\n",
      "Requirement already satisfied: pillow>=7.1.0 in c:\\users\\macat\\anaconda3\\envs\\ironhack1\\lib\\site-packages (from bokeh) (11.1.0)\n",
      "Requirement already satisfied: PyYAML>=3.10 in c:\\users\\macat\\anaconda3\\envs\\ironhack1\\lib\\site-packages (from bokeh) (6.0.2)\n",
      "Requirement already satisfied: tornado>=6.2 in c:\\users\\macat\\anaconda3\\envs\\ironhack1\\lib\\site-packages (from bokeh) (6.5.1)\n",
      "Requirement already satisfied: xyzservices>=2021.09.1 in c:\\users\\macat\\anaconda3\\envs\\ironhack1\\lib\\site-packages (from bokeh) (2025.4.0)\n",
      "Requirement already satisfied: MarkupSafe>=2.0 in c:\\users\\macat\\anaconda3\\envs\\ironhack1\\lib\\site-packages (from Jinja2>=2.9->bokeh) (3.0.2)\n",
      "Requirement already satisfied: python-dateutil>=2.8.2 in c:\\users\\macat\\anaconda3\\envs\\ironhack1\\lib\\site-packages (from pandas>=1.2->panel) (2.9.0.post0)\n",
      "Requirement already satisfied: pytz>=2020.1 in c:\\users\\macat\\anaconda3\\envs\\ironhack1\\lib\\site-packages (from pandas>=1.2->panel) (2024.1)\n",
      "Requirement already satisfied: tzdata>=2022.7 in c:\\users\\macat\\anaconda3\\envs\\ironhack1\\lib\\site-packages (from pandas>=1.2->panel) (2025.2)\n",
      "Requirement already satisfied: six>=1.5 in c:\\users\\macat\\anaconda3\\envs\\ironhack1\\lib\\site-packages (from python-dateutil>=2.8.2->pandas>=1.2->panel) (1.17.0)\n",
      "Requirement already satisfied: webencodings in c:\\users\\macat\\anaconda3\\envs\\ironhack1\\lib\\site-packages (from bleach->panel) (0.5.1)\n",
      "Requirement already satisfied: uc-micro-py in c:\\users\\macat\\anaconda3\\envs\\ironhack1\\lib\\site-packages (from linkify-it-py->panel) (1.0.3)\n",
      "Requirement already satisfied: mdurl~=0.1 in c:\\users\\macat\\anaconda3\\envs\\ironhack1\\lib\\site-packages (from markdown-it-py->panel) (0.1.0)\n",
      "Requirement already satisfied: charset-normalizer<4,>=2 in c:\\users\\macat\\anaconda3\\envs\\ironhack1\\lib\\site-packages (from requests->panel) (3.3.2)\n",
      "Requirement already satisfied: idna<4,>=2.5 in c:\\users\\macat\\anaconda3\\envs\\ironhack1\\lib\\site-packages (from requests->panel) (3.7)\n",
      "Requirement already satisfied: urllib3<3,>=1.21.1 in c:\\users\\macat\\anaconda3\\envs\\ironhack1\\lib\\site-packages (from requests->panel) (2.3.0)\n",
      "Requirement already satisfied: certifi>=2017.4.17 in c:\\users\\macat\\anaconda3\\envs\\ironhack1\\lib\\site-packages (from requests->panel) (2025.8.3)\n",
      "Requirement already satisfied: colorama in c:\\users\\macat\\anaconda3\\envs\\ironhack1\\lib\\site-packages (from tqdm->panel) (0.4.6)\n"
     ]
    }
   ],
   "source": [
    "pip install panel bokeh param"
   ]
  },
  {
   "cell_type": "code",
   "execution_count": 10,
   "id": "9d9d0849",
   "metadata": {},
   "outputs": [
    {
     "name": "stdout",
     "output_type": "stream",
     "text": [
      "Channels:\n",
      " - conda-forge\n",
      " - defaults\n",
      "Platform: win-64\n",
      "Collecting package metadata (repodata.json): ...working... done\n",
      "Solving environment: ...working... done\n",
      "\n",
      "# All requested packages already installed.\n",
      "\n",
      "\n",
      "Note: you may need to restart the kernel to use updated packages.\n"
     ]
    }
   ],
   "source": [
    "conda install -c conda-forge jupyter_bokeh"
   ]
  },
  {
   "cell_type": "code",
   "execution_count": 11,
   "id": "8e7d516d",
   "metadata": {},
   "outputs": [
    {
     "name": "stdout",
     "output_type": "stream",
     "text": [
      "Requirement already satisfied: jupyter-bokeh in c:\\users\\macat\\anaconda3\\envs\\ironhack1\\lib\\site-packages (4.0.5)\n",
      "Requirement already satisfied: bokeh==3.* in c:\\users\\macat\\anaconda3\\envs\\ironhack1\\lib\\site-packages (from jupyter-bokeh) (3.7.3)\n",
      "Requirement already satisfied: ipywidgets==8.* in c:\\users\\macat\\anaconda3\\envs\\ironhack1\\lib\\site-packages (from jupyter-bokeh) (8.1.7)\n",
      "Requirement already satisfied: Jinja2>=2.9 in c:\\users\\macat\\anaconda3\\envs\\ironhack1\\lib\\site-packages (from bokeh==3.*->jupyter-bokeh) (3.1.6)\n",
      "Requirement already satisfied: contourpy>=1.2 in c:\\users\\macat\\anaconda3\\envs\\ironhack1\\lib\\site-packages (from bokeh==3.*->jupyter-bokeh) (1.3.1)\n",
      "Requirement already satisfied: narwhals>=1.13 in c:\\users\\macat\\anaconda3\\envs\\ironhack1\\lib\\site-packages (from bokeh==3.*->jupyter-bokeh) (2.2.0)\n",
      "Requirement already satisfied: numpy>=1.16 in c:\\users\\macat\\anaconda3\\envs\\ironhack1\\lib\\site-packages (from bokeh==3.*->jupyter-bokeh) (1.26.4)\n",
      "Requirement already satisfied: packaging>=16.8 in c:\\users\\macat\\anaconda3\\envs\\ironhack1\\lib\\site-packages (from bokeh==3.*->jupyter-bokeh) (24.2)\n",
      "Requirement already satisfied: pandas>=1.2 in c:\\users\\macat\\anaconda3\\envs\\ironhack1\\lib\\site-packages (from bokeh==3.*->jupyter-bokeh) (2.2.3)\n",
      "Requirement already satisfied: pillow>=7.1.0 in c:\\users\\macat\\anaconda3\\envs\\ironhack1\\lib\\site-packages (from bokeh==3.*->jupyter-bokeh) (11.1.0)\n",
      "Requirement already satisfied: PyYAML>=3.10 in c:\\users\\macat\\anaconda3\\envs\\ironhack1\\lib\\site-packages (from bokeh==3.*->jupyter-bokeh) (6.0.2)\n",
      "Requirement already satisfied: tornado>=6.2 in c:\\users\\macat\\anaconda3\\envs\\ironhack1\\lib\\site-packages (from bokeh==3.*->jupyter-bokeh) (6.5.1)\n",
      "Requirement already satisfied: xyzservices>=2021.09.1 in c:\\users\\macat\\anaconda3\\envs\\ironhack1\\lib\\site-packages (from bokeh==3.*->jupyter-bokeh) (2025.4.0)\n",
      "Requirement already satisfied: comm>=0.1.3 in c:\\users\\macat\\anaconda3\\envs\\ironhack1\\lib\\site-packages (from ipywidgets==8.*->jupyter-bokeh) (0.2.1)\n",
      "Requirement already satisfied: ipython>=6.1.0 in c:\\users\\macat\\anaconda3\\envs\\ironhack1\\lib\\site-packages (from ipywidgets==8.*->jupyter-bokeh) (8.30.0)\n",
      "Requirement already satisfied: traitlets>=4.3.1 in c:\\users\\macat\\anaconda3\\envs\\ironhack1\\lib\\site-packages (from ipywidgets==8.*->jupyter-bokeh) (5.14.3)\n",
      "Requirement already satisfied: widgetsnbextension~=4.0.14 in c:\\users\\macat\\anaconda3\\envs\\ironhack1\\lib\\site-packages (from ipywidgets==8.*->jupyter-bokeh) (4.0.14)\n",
      "Requirement already satisfied: jupyterlab_widgets~=3.0.15 in c:\\users\\macat\\anaconda3\\envs\\ironhack1\\lib\\site-packages (from ipywidgets==8.*->jupyter-bokeh) (3.0.15)\n",
      "Requirement already satisfied: decorator in c:\\users\\macat\\anaconda3\\envs\\ironhack1\\lib\\site-packages (from ipython>=6.1.0->ipywidgets==8.*->jupyter-bokeh) (5.1.1)\n",
      "Requirement already satisfied: jedi>=0.16 in c:\\users\\macat\\anaconda3\\envs\\ironhack1\\lib\\site-packages (from ipython>=6.1.0->ipywidgets==8.*->jupyter-bokeh) (0.19.2)\n",
      "Requirement already satisfied: matplotlib-inline in c:\\users\\macat\\anaconda3\\envs\\ironhack1\\lib\\site-packages (from ipython>=6.1.0->ipywidgets==8.*->jupyter-bokeh) (0.1.6)\n",
      "Requirement already satisfied: prompt-toolkit<3.1.0,>=3.0.41 in c:\\users\\macat\\anaconda3\\envs\\ironhack1\\lib\\site-packages (from ipython>=6.1.0->ipywidgets==8.*->jupyter-bokeh) (3.0.43)\n",
      "Requirement already satisfied: pygments>=2.4.0 in c:\\users\\macat\\anaconda3\\envs\\ironhack1\\lib\\site-packages (from ipython>=6.1.0->ipywidgets==8.*->jupyter-bokeh) (2.19.1)\n",
      "Requirement already satisfied: stack-data in c:\\users\\macat\\anaconda3\\envs\\ironhack1\\lib\\site-packages (from ipython>=6.1.0->ipywidgets==8.*->jupyter-bokeh) (0.2.0)\n",
      "Requirement already satisfied: exceptiongroup in c:\\users\\macat\\anaconda3\\envs\\ironhack1\\lib\\site-packages (from ipython>=6.1.0->ipywidgets==8.*->jupyter-bokeh) (1.2.0)\n",
      "Requirement already satisfied: typing-extensions>=4.6 in c:\\users\\macat\\anaconda3\\envs\\ironhack1\\lib\\site-packages (from ipython>=6.1.0->ipywidgets==8.*->jupyter-bokeh) (4.12.2)\n",
      "Requirement already satisfied: colorama in c:\\users\\macat\\anaconda3\\envs\\ironhack1\\lib\\site-packages (from ipython>=6.1.0->ipywidgets==8.*->jupyter-bokeh) (0.4.6)\n",
      "Requirement already satisfied: wcwidth in c:\\users\\macat\\anaconda3\\envs\\ironhack1\\lib\\site-packages (from prompt-toolkit<3.1.0,>=3.0.41->ipython>=6.1.0->ipywidgets==8.*->jupyter-bokeh) (0.2.5)\n",
      "Requirement already satisfied: parso<0.9.0,>=0.8.4 in c:\\users\\macat\\anaconda3\\envs\\ironhack1\\lib\\site-packages (from jedi>=0.16->ipython>=6.1.0->ipywidgets==8.*->jupyter-bokeh) (0.8.4)\n",
      "Requirement already satisfied: MarkupSafe>=2.0 in c:\\users\\macat\\anaconda3\\envs\\ironhack1\\lib\\site-packages (from Jinja2>=2.9->bokeh==3.*->jupyter-bokeh) (3.0.2)\n",
      "Requirement already satisfied: python-dateutil>=2.8.2 in c:\\users\\macat\\anaconda3\\envs\\ironhack1\\lib\\site-packages (from pandas>=1.2->bokeh==3.*->jupyter-bokeh) (2.9.0.post0)\n",
      "Requirement already satisfied: pytz>=2020.1 in c:\\users\\macat\\anaconda3\\envs\\ironhack1\\lib\\site-packages (from pandas>=1.2->bokeh==3.*->jupyter-bokeh) (2024.1)\n",
      "Requirement already satisfied: tzdata>=2022.7 in c:\\users\\macat\\anaconda3\\envs\\ironhack1\\lib\\site-packages (from pandas>=1.2->bokeh==3.*->jupyter-bokeh) (2025.2)\n",
      "Requirement already satisfied: six>=1.5 in c:\\users\\macat\\anaconda3\\envs\\ironhack1\\lib\\site-packages (from python-dateutil>=2.8.2->pandas>=1.2->bokeh==3.*->jupyter-bokeh) (1.17.0)\n",
      "Requirement already satisfied: executing in c:\\users\\macat\\anaconda3\\envs\\ironhack1\\lib\\site-packages (from stack-data->ipython>=6.1.0->ipywidgets==8.*->jupyter-bokeh) (0.8.3)\n",
      "Requirement already satisfied: asttokens in c:\\users\\macat\\anaconda3\\envs\\ironhack1\\lib\\site-packages (from stack-data->ipython>=6.1.0->ipywidgets==8.*->jupyter-bokeh) (3.0.0)\n",
      "Requirement already satisfied: pure-eval in c:\\users\\macat\\anaconda3\\envs\\ironhack1\\lib\\site-packages (from stack-data->ipython>=6.1.0->ipywidgets==8.*->jupyter-bokeh) (0.2.2)\n",
      "Note: you may need to restart the kernel to use updated packages.\n"
     ]
    }
   ],
   "source": [
    "pip install jupyter-bokeh"
   ]
  },
  {
   "cell_type": "code",
   "execution_count": 12,
   "id": "474b557c",
   "metadata": {
    "tags": []
   },
   "outputs": [
    {
     "data": {
      "text/html": [
       "<script type=\"esms-options\">{\"shimMode\": true}</script><style>*[data-root-id],\n",
       "*[data-root-id] > * {\n",
       "  box-sizing: border-box;\n",
       "  font-family: var(--jp-ui-font-family);\n",
       "  font-size: var(--jp-ui-font-size1);\n",
       "  color: var(--vscode-editor-foreground, var(--jp-ui-font-color1));\n",
       "}\n",
       "\n",
       "/* Override VSCode background color */\n",
       ".cell-output-ipywidget-background:has(\n",
       "  > .cell-output-ipywidget-background > .lm-Widget > *[data-root-id]\n",
       "),\n",
       ".cell-output-ipywidget-background:has(> .lm-Widget > *[data-root-id]) {\n",
       "  background-color: transparent !important;\n",
       "}\n",
       "</style>"
      ]
     },
     "metadata": {},
     "output_type": "display_data"
    },
    {
     "data": {
      "application/javascript": "(function(root) {\n  function now() {\n    return new Date();\n  }\n\n  const force = true;\n  const py_version = '3.7.3'.replace('rc', '-rc.').replace('.dev', '-dev.');\n  const reloading = false;\n  const Bokeh = root.Bokeh;\n\n  // Set a timeout for this load but only if we are not already initializing\n  if (typeof (root._bokeh_timeout) === \"undefined\" || (force || !root._bokeh_is_initializing)) {\n    root._bokeh_timeout = Date.now() + 5000;\n    root._bokeh_failed_load = false;\n  }\n\n  function run_callbacks() {\n    try {\n      root._bokeh_onload_callbacks.forEach(function(callback) {\n        if (callback != null)\n          callback();\n      });\n    } finally {\n      delete root._bokeh_onload_callbacks;\n    }\n    console.debug(\"Bokeh: all callbacks have finished\");\n  }\n\n  function load_libs(css_urls, js_urls, js_modules, js_exports, callback) {\n    if (css_urls == null) css_urls = [];\n    if (js_urls == null) js_urls = [];\n    if (js_modules == null) js_modules = [];\n    if (js_exports == null) js_exports = {};\n\n    root._bokeh_onload_callbacks.push(callback);\n\n    if (root._bokeh_is_loading > 0) {\n      // Don't load bokeh if it is still initializing\n      console.debug(\"Bokeh: BokehJS is being loaded, scheduling callback at\", now());\n      return null;\n    } else if (js_urls.length === 0 && js_modules.length === 0 && Object.keys(js_exports).length === 0) {\n      // There is nothing to load\n      run_callbacks();\n      return null;\n    }\n\n    function on_load() {\n      root._bokeh_is_loading--;\n      if (root._bokeh_is_loading === 0) {\n        console.debug(\"Bokeh: all BokehJS libraries/stylesheets loaded\");\n        run_callbacks()\n      }\n    }\n    window._bokeh_on_load = on_load\n\n    function on_error(e) {\n      const src_el = e.srcElement\n      console.error(\"failed to load \" + (src_el.href || src_el.src));\n    }\n\n    const skip = [];\n    if (window.requirejs) {\n      window.requirejs.config({'packages': {}, 'paths': {}, 'shim': {}});\n      root._bokeh_is_loading = css_urls.length + 0;\n    } else {\n      root._bokeh_is_loading = css_urls.length + js_urls.length + js_modules.length + Object.keys(js_exports).length;\n    }\n\n    const existing_stylesheets = []\n    const links = document.getElementsByTagName('link')\n    for (let i = 0; i < links.length; i++) {\n      const link = links[i]\n      if (link.href != null) {\n        existing_stylesheets.push(link.href)\n      }\n    }\n    for (let i = 0; i < css_urls.length; i++) {\n      const url = css_urls[i];\n      const escaped = encodeURI(url)\n      if (existing_stylesheets.indexOf(escaped) !== -1) {\n        on_load()\n        continue;\n      }\n      const element = document.createElement(\"link\");\n      element.onload = on_load;\n      element.onerror = on_error;\n      element.rel = \"stylesheet\";\n      element.type = \"text/css\";\n      element.href = url;\n      console.debug(\"Bokeh: injecting link tag for BokehJS stylesheet: \", url);\n      document.body.appendChild(element);\n    }    var existing_scripts = []\n    const scripts = document.getElementsByTagName('script')\n    for (let i = 0; i < scripts.length; i++) {\n      var script = scripts[i]\n      if (script.src != null) {\n        existing_scripts.push(script.src)\n      }\n    }\n    for (let i = 0; i < js_urls.length; i++) {\n      const url = js_urls[i];\n      const escaped = encodeURI(url)\n      if (skip.indexOf(escaped) !== -1 || existing_scripts.indexOf(escaped) !== -1) {\n        if (!window.requirejs) {\n          on_load();\n        }\n        continue;\n      }\n      const element = document.createElement('script');\n      element.onload = on_load;\n      element.onerror = on_error;\n      element.async = false;\n      element.src = url;\n      console.debug(\"Bokeh: injecting script tag for BokehJS library: \", url);\n      document.head.appendChild(element);\n    }\n    for (let i = 0; i < js_modules.length; i++) {\n      const url = js_modules[i];\n      const escaped = encodeURI(url)\n      if (skip.indexOf(escaped) !== -1 || existing_scripts.indexOf(escaped) !== -1) {\n        if (!window.requirejs) {\n          on_load();\n        }\n        continue;\n      }\n      var element = document.createElement('script');\n      element.onload = on_load;\n      element.onerror = on_error;\n      element.async = false;\n      element.src = url;\n      element.type = \"module\";\n      console.debug(\"Bokeh: injecting script tag for BokehJS library: \", url);\n      document.head.appendChild(element);\n    }\n    for (const name in js_exports) {\n      const url = js_exports[name];\n      const escaped = encodeURI(url)\n      if (skip.indexOf(escaped) >= 0 || root[name] != null) {\n        if (!window.requirejs) {\n          on_load();\n        }\n        continue;\n      }\n      var element = document.createElement('script');\n      element.onerror = on_error;\n      element.async = false;\n      element.type = \"module\";\n      console.debug(\"Bokeh: injecting script tag for BokehJS library: \", url);\n      element.textContent = `\n      import ${name} from \"${url}\"\n      window.${name} = ${name}\n      window._bokeh_on_load()\n      `\n      document.head.appendChild(element);\n    }\n    if (!js_urls.length && !js_modules.length) {\n      on_load()\n    }\n  };\n\n  function inject_raw_css(css) {\n    const element = document.createElement(\"style\");\n    element.appendChild(document.createTextNode(css));\n    document.body.appendChild(element);\n  }\n\n  const js_urls = [\"https://cdn.holoviz.org/panel/1.7.5/dist/bundled/reactiveesm/es-module-shims@^1.10.0/dist/es-module-shims.min.js\", \"https://cdn.bokeh.org/bokeh/release/bokeh-3.7.3.min.js\", \"https://cdn.bokeh.org/bokeh/release/bokeh-gl-3.7.3.min.js\", \"https://cdn.bokeh.org/bokeh/release/bokeh-widgets-3.7.3.min.js\", \"https://cdn.bokeh.org/bokeh/release/bokeh-tables-3.7.3.min.js\", \"https://cdn.holoviz.org/panel/1.7.5/dist/panel.min.js\"];\n  const js_modules = [];\n  const js_exports = {};\n  const css_urls = [];\n  const inline_js = [    function(Bokeh) {\n      Bokeh.set_log_level(\"info\");\n    },\nfunction(Bokeh) {} // ensure no trailing comma for IE\n  ];\n\n  function run_inline_js() {\n    if ((root.Bokeh !== undefined) || (force === true)) {\n      for (let i = 0; i < inline_js.length; i++) {\n        try {\n          inline_js[i].call(root, root.Bokeh);\n        } catch(e) {\n          if (!reloading) {\n            throw e;\n          }\n        }\n      }\n      // Cache old bokeh versions\n      if (Bokeh != undefined && !reloading) {\n        var NewBokeh = root.Bokeh;\n        if (Bokeh.versions === undefined) {\n          Bokeh.versions = new Map();\n        }\n        if (NewBokeh.version !== Bokeh.version) {\n          Bokeh.versions.set(NewBokeh.version, NewBokeh)\n        }\n        root.Bokeh = Bokeh;\n      }\n    } else if (Date.now() < root._bokeh_timeout) {\n      setTimeout(run_inline_js, 100);\n    } else if (!root._bokeh_failed_load) {\n      console.log(\"Bokeh: BokehJS failed to load within specified timeout.\");\n      root._bokeh_failed_load = true;\n    }\n    root._bokeh_is_initializing = false\n  }\n\n  function load_or_wait() {\n    // Implement a backoff loop that tries to ensure we do not load multiple\n    // versions of Bokeh and its dependencies at the same time.\n    // In recent versions we use the root._bokeh_is_initializing flag\n    // to determine whether there is an ongoing attempt to initialize\n    // bokeh, however for backward compatibility we also try to ensure\n    // that we do not start loading a newer (Panel>=1.0 and Bokeh>3) version\n    // before older versions are fully initialized.\n    if (root._bokeh_is_initializing && Date.now() > root._bokeh_timeout) {\n      // If the timeout and bokeh was not successfully loaded we reset\n      // everything and try loading again\n      root._bokeh_timeout = Date.now() + 5000;\n      root._bokeh_is_initializing = false;\n      root._bokeh_onload_callbacks = undefined;\n      root._bokeh_is_loading = 0\n      console.log(\"Bokeh: BokehJS was loaded multiple times but one version failed to initialize.\");\n      load_or_wait();\n    } else if (root._bokeh_is_initializing || (typeof root._bokeh_is_initializing === \"undefined\" && root._bokeh_onload_callbacks !== undefined)) {\n      setTimeout(load_or_wait, 100);\n    } else {\n      root._bokeh_is_initializing = true\n      root._bokeh_onload_callbacks = []\n      const bokeh_loaded = root.Bokeh != null && (root.Bokeh.version === py_version || (root.Bokeh.versions !== undefined && root.Bokeh.versions.has(py_version)));\n      if (!reloading && !bokeh_loaded) {\n        if (root.Bokeh) {\n          root.Bokeh = undefined;\n        }\n        console.debug(\"Bokeh: BokehJS not loaded, scheduling load and callback at\", now());\n      }\n      load_libs(css_urls, js_urls, js_modules, js_exports, function() {\n        console.debug(\"Bokeh: BokehJS plotting callback run at\", now());\n        run_inline_js();\n      });\n    }\n  }\n  // Give older versions of the autoload script a head-start to ensure\n  // they initialize before we start loading newer version.\n  setTimeout(load_or_wait, 100)\n}(window));",
      "application/vnd.holoviews_load.v0+json": ""
     },
     "metadata": {},
     "output_type": "display_data"
    },
    {
     "data": {
      "application/javascript": "\nif ((window.PyViz === undefined) || (window.PyViz instanceof HTMLElement)) {\n  window.PyViz = {comms: {}, comm_status:{}, kernels:{}, receivers: {}, plot_index: []}\n}\n\n\n    function JupyterCommManager() {\n    }\n\n    JupyterCommManager.prototype.register_target = function(plot_id, comm_id, msg_handler) {\n      if (window.comm_manager || ((window.Jupyter !== undefined) && (Jupyter.notebook.kernel != null))) {\n        var comm_manager = window.comm_manager || Jupyter.notebook.kernel.comm_manager;\n        comm_manager.register_target(comm_id, function(comm) {\n          comm.on_msg(msg_handler);\n        });\n      } else if ((plot_id in window.PyViz.kernels) && (window.PyViz.kernels[plot_id])) {\n        window.PyViz.kernels[plot_id].registerCommTarget(comm_id, function(comm) {\n          comm.onMsg = msg_handler;\n        });\n      } else if (typeof google != 'undefined' && google.colab.kernel != null) {\n        google.colab.kernel.comms.registerTarget(comm_id, (comm) => {\n          var messages = comm.messages[Symbol.asyncIterator]();\n          function processIteratorResult(result) {\n            var message = result.value;\n            var content = {data: message.data, comm_id};\n            var buffers = []\n            for (var buffer of message.buffers || []) {\n              buffers.push(new DataView(buffer))\n            }\n            var metadata = message.metadata || {};\n            var msg = {content, buffers, metadata}\n            msg_handler(msg);\n            return messages.next().then(processIteratorResult);\n          }\n          return messages.next().then(processIteratorResult);\n        })\n      }\n    }\n\n    JupyterCommManager.prototype.get_client_comm = function(plot_id, comm_id, msg_handler) {\n      if (comm_id in window.PyViz.comms) {\n        return window.PyViz.comms[comm_id];\n      } else if (window.comm_manager || ((window.Jupyter !== undefined) && (Jupyter.notebook.kernel != null))) {\n        var comm_manager = window.comm_manager || Jupyter.notebook.kernel.comm_manager;\n        var comm = comm_manager.new_comm(comm_id, {}, {}, {}, comm_id);\n        if (msg_handler) {\n          comm.on_msg(msg_handler);\n        }\n      } else if ((plot_id in window.PyViz.kernels) && (window.PyViz.kernels[plot_id])) {\n        var comm = window.PyViz.kernels[plot_id].connectToComm(comm_id);\n        let retries = 0;\n        const open = () => {\n          if (comm.active) {\n            comm.open();\n          } else if (retries > 3) {\n            console.warn('Comm target never activated')\n          } else {\n            retries += 1\n            setTimeout(open, 500)\n          }\n        }\n        if (comm.active) {\n          comm.open();\n        } else {\n          setTimeout(open, 500)\n        }\n        if (msg_handler) {\n          comm.onMsg = msg_handler;\n        }\n      } else if (typeof google != 'undefined' && google.colab.kernel != null) {\n        var comm_promise = google.colab.kernel.comms.open(comm_id)\n        comm_promise.then((comm) => {\n          window.PyViz.comms[comm_id] = comm;\n          if (msg_handler) {\n            var messages = comm.messages[Symbol.asyncIterator]();\n            function processIteratorResult(result) {\n              var message = result.value;\n              var content = {data: message.data};\n              var metadata = message.metadata || {comm_id};\n              var msg = {content, metadata}\n              msg_handler(msg);\n              return messages.next().then(processIteratorResult);\n            }\n            return messages.next().then(processIteratorResult);\n          }\n        })\n        var sendClosure = (data, metadata, buffers, disposeOnDone) => {\n          return comm_promise.then((comm) => {\n            comm.send(data, metadata, buffers, disposeOnDone);\n          });\n        };\n        var comm = {\n          send: sendClosure\n        };\n      }\n      window.PyViz.comms[comm_id] = comm;\n      return comm;\n    }\n    window.PyViz.comm_manager = new JupyterCommManager();\n    \n\n\nvar JS_MIME_TYPE = 'application/javascript';\nvar HTML_MIME_TYPE = 'text/html';\nvar EXEC_MIME_TYPE = 'application/vnd.holoviews_exec.v0+json';\nvar CLASS_NAME = 'output';\n\n/**\n * Render data to the DOM node\n */\nfunction render(props, node) {\n  var div = document.createElement(\"div\");\n  var script = document.createElement(\"script\");\n  node.appendChild(div);\n  node.appendChild(script);\n}\n\n/**\n * Handle when a new output is added\n */\nfunction handle_add_output(event, handle) {\n  var output_area = handle.output_area;\n  var output = handle.output;\n  if ((output.data == undefined) || (!output.data.hasOwnProperty(EXEC_MIME_TYPE))) {\n    return\n  }\n  var id = output.metadata[EXEC_MIME_TYPE][\"id\"];\n  var toinsert = output_area.element.find(\".\" + CLASS_NAME.split(' ')[0]);\n  if (id !== undefined) {\n    var nchildren = toinsert.length;\n    var html_node = toinsert[nchildren-1].children[0];\n    html_node.innerHTML = output.data[HTML_MIME_TYPE];\n    var scripts = [];\n    var nodelist = html_node.querySelectorAll(\"script\");\n    for (var i in nodelist) {\n      if (nodelist.hasOwnProperty(i)) {\n        scripts.push(nodelist[i])\n      }\n    }\n\n    scripts.forEach( function (oldScript) {\n      var newScript = document.createElement(\"script\");\n      var attrs = [];\n      var nodemap = oldScript.attributes;\n      for (var j in nodemap) {\n        if (nodemap.hasOwnProperty(j)) {\n          attrs.push(nodemap[j])\n        }\n      }\n      attrs.forEach(function(attr) { newScript.setAttribute(attr.name, attr.value) });\n      newScript.appendChild(document.createTextNode(oldScript.innerHTML));\n      oldScript.parentNode.replaceChild(newScript, oldScript);\n    });\n    if (JS_MIME_TYPE in output.data) {\n      toinsert[nchildren-1].children[1].textContent = output.data[JS_MIME_TYPE];\n    }\n    output_area._hv_plot_id = id;\n    if ((window.Bokeh !== undefined) && (id in Bokeh.index)) {\n      window.PyViz.plot_index[id] = Bokeh.index[id];\n    } else {\n      window.PyViz.plot_index[id] = null;\n    }\n  } else if (output.metadata[EXEC_MIME_TYPE][\"server_id\"] !== undefined) {\n    var bk_div = document.createElement(\"div\");\n    bk_div.innerHTML = output.data[HTML_MIME_TYPE];\n    var script_attrs = bk_div.children[0].attributes;\n    for (var i = 0; i < script_attrs.length; i++) {\n      toinsert[toinsert.length - 1].childNodes[1].setAttribute(script_attrs[i].name, script_attrs[i].value);\n    }\n    // store reference to server id on output_area\n    output_area._bokeh_server_id = output.metadata[EXEC_MIME_TYPE][\"server_id\"];\n  }\n}\n\n/**\n * Handle when an output is cleared or removed\n */\nfunction handle_clear_output(event, handle) {\n  var id = handle.cell.output_area._hv_plot_id;\n  var server_id = handle.cell.output_area._bokeh_server_id;\n  if (((id === undefined) || !(id in PyViz.plot_index)) && (server_id !== undefined)) { return; }\n  var comm = window.PyViz.comm_manager.get_client_comm(\"hv-extension-comm\", \"hv-extension-comm\", function () {});\n  if (server_id !== null) {\n    comm.send({event_type: 'server_delete', 'id': server_id});\n    return;\n  } else if (comm !== null) {\n    comm.send({event_type: 'delete', 'id': id});\n  }\n  delete PyViz.plot_index[id];\n  if ((window.Bokeh !== undefined) & (id in window.Bokeh.index)) {\n    var doc = window.Bokeh.index[id].model.document\n    doc.clear();\n    const i = window.Bokeh.documents.indexOf(doc);\n    if (i > -1) {\n      window.Bokeh.documents.splice(i, 1);\n    }\n  }\n}\n\n/**\n * Handle kernel restart event\n */\nfunction handle_kernel_cleanup(event, handle) {\n  delete PyViz.comms[\"hv-extension-comm\"];\n  window.PyViz.plot_index = {}\n}\n\n/**\n * Handle update_display_data messages\n */\nfunction handle_update_output(event, handle) {\n  handle_clear_output(event, {cell: {output_area: handle.output_area}})\n  handle_add_output(event, handle)\n}\n\nfunction register_renderer(events, OutputArea) {\n  function append_mime(data, metadata, element) {\n    // create a DOM node to render to\n    var toinsert = this.create_output_subarea(\n    metadata,\n    CLASS_NAME,\n    EXEC_MIME_TYPE\n    );\n    this.keyboard_manager.register_events(toinsert);\n    // Render to node\n    var props = {data: data, metadata: metadata[EXEC_MIME_TYPE]};\n    render(props, toinsert[0]);\n    element.append(toinsert);\n    return toinsert\n  }\n\n  events.on('output_added.OutputArea', handle_add_output);\n  events.on('output_updated.OutputArea', handle_update_output);\n  events.on('clear_output.CodeCell', handle_clear_output);\n  events.on('delete.Cell', handle_clear_output);\n  events.on('kernel_ready.Kernel', handle_kernel_cleanup);\n\n  OutputArea.prototype.register_mime_type(EXEC_MIME_TYPE, append_mime, {\n    safe: true,\n    index: 0\n  });\n}\n\nif (window.Jupyter !== undefined) {\n  try {\n    var events = require('base/js/events');\n    var OutputArea = require('notebook/js/outputarea').OutputArea;\n    if (OutputArea.prototype.mime_types().indexOf(EXEC_MIME_TYPE) == -1) {\n      register_renderer(events, OutputArea);\n    }\n  } catch(err) {\n  }\n}\n",
      "application/vnd.holoviews_load.v0+json": ""
     },
     "metadata": {},
     "output_type": "display_data"
    },
    {
     "data": {
      "application/vnd.holoviews_exec.v0+json": "",
      "text/html": [
       "<div id='c32fc09d-fdd0-41a1-b272-3d36e8b1bacb'>\n",
       "  <div id=\"eb5b5b49-eab0-4a93-bb78-a9058be8efd0\" data-root-id=\"c32fc09d-fdd0-41a1-b272-3d36e8b1bacb\" style=\"display: contents;\"></div>\n",
       "</div>\n",
       "<script type=\"application/javascript\">(function(root) {\n",
       "  var docs_json = {\"a3cfdca4-72c9-489f-b849-5a17f5f6c49a\":{\"version\":\"3.7.3\",\"title\":\"Bokeh Application\",\"roots\":[{\"type\":\"object\",\"name\":\"panel.models.browser.BrowserInfo\",\"id\":\"c32fc09d-fdd0-41a1-b272-3d36e8b1bacb\"},{\"type\":\"object\",\"name\":\"panel.models.comm_manager.CommManager\",\"id\":\"8250ebab-5c0d-4740-b0db-9d153b036dba\",\"attributes\":{\"plot_id\":\"c32fc09d-fdd0-41a1-b272-3d36e8b1bacb\",\"comm_id\":\"2ec1456c9d084b989a6634a556ee50ac\",\"client_comm_id\":\"8ff88f2aef1943fda22e4fdd989a0a61\"}}],\"defs\":[{\"type\":\"model\",\"name\":\"ReactiveHTML1\"},{\"type\":\"model\",\"name\":\"FlexBox1\",\"properties\":[{\"name\":\"align_content\",\"kind\":\"Any\",\"default\":\"flex-start\"},{\"name\":\"align_items\",\"kind\":\"Any\",\"default\":\"flex-start\"},{\"name\":\"flex_direction\",\"kind\":\"Any\",\"default\":\"row\"},{\"name\":\"flex_wrap\",\"kind\":\"Any\",\"default\":\"wrap\"},{\"name\":\"gap\",\"kind\":\"Any\",\"default\":\"\"},{\"name\":\"justify_content\",\"kind\":\"Any\",\"default\":\"flex-start\"}]},{\"type\":\"model\",\"name\":\"FloatPanel1\",\"properties\":[{\"name\":\"config\",\"kind\":\"Any\",\"default\":{\"type\":\"map\"}},{\"name\":\"contained\",\"kind\":\"Any\",\"default\":true},{\"name\":\"position\",\"kind\":\"Any\",\"default\":\"right-top\"},{\"name\":\"offsetx\",\"kind\":\"Any\",\"default\":null},{\"name\":\"offsety\",\"kind\":\"Any\",\"default\":null},{\"name\":\"theme\",\"kind\":\"Any\",\"default\":\"primary\"},{\"name\":\"status\",\"kind\":\"Any\",\"default\":\"normalized\"}]},{\"type\":\"model\",\"name\":\"GridStack1\",\"properties\":[{\"name\":\"ncols\",\"kind\":\"Any\",\"default\":null},{\"name\":\"nrows\",\"kind\":\"Any\",\"default\":null},{\"name\":\"allow_resize\",\"kind\":\"Any\",\"default\":true},{\"name\":\"allow_drag\",\"kind\":\"Any\",\"default\":true},{\"name\":\"state\",\"kind\":\"Any\",\"default\":[]}]},{\"type\":\"model\",\"name\":\"drag1\",\"properties\":[{\"name\":\"slider_width\",\"kind\":\"Any\",\"default\":5},{\"name\":\"slider_color\",\"kind\":\"Any\",\"default\":\"black\"},{\"name\":\"value\",\"kind\":\"Any\",\"default\":50}]},{\"type\":\"model\",\"name\":\"click1\",\"properties\":[{\"name\":\"terminal_output\",\"kind\":\"Any\",\"default\":\"\"},{\"name\":\"debug_name\",\"kind\":\"Any\",\"default\":\"\"},{\"name\":\"clears\",\"kind\":\"Any\",\"default\":0}]},{\"type\":\"model\",\"name\":\"ReactiveESM1\",\"properties\":[{\"name\":\"esm_constants\",\"kind\":\"Any\",\"default\":{\"type\":\"map\"}}]},{\"type\":\"model\",\"name\":\"JSComponent1\",\"properties\":[{\"name\":\"esm_constants\",\"kind\":\"Any\",\"default\":{\"type\":\"map\"}}]},{\"type\":\"model\",\"name\":\"ReactComponent1\",\"properties\":[{\"name\":\"use_shadow_dom\",\"kind\":\"Any\",\"default\":true},{\"name\":\"esm_constants\",\"kind\":\"Any\",\"default\":{\"type\":\"map\"}}]},{\"type\":\"model\",\"name\":\"AnyWidgetComponent1\",\"properties\":[{\"name\":\"use_shadow_dom\",\"kind\":\"Any\",\"default\":true},{\"name\":\"esm_constants\",\"kind\":\"Any\",\"default\":{\"type\":\"map\"}}]},{\"type\":\"model\",\"name\":\"FastWrapper1\",\"properties\":[{\"name\":\"object\",\"kind\":\"Any\",\"default\":null},{\"name\":\"style\",\"kind\":\"Any\",\"default\":null}]},{\"type\":\"model\",\"name\":\"NotificationArea1\",\"properties\":[{\"name\":\"js_events\",\"kind\":\"Any\",\"default\":{\"type\":\"map\"}},{\"name\":\"max_notifications\",\"kind\":\"Any\",\"default\":5},{\"name\":\"notifications\",\"kind\":\"Any\",\"default\":[]},{\"name\":\"position\",\"kind\":\"Any\",\"default\":\"bottom-right\"},{\"name\":\"_clear\",\"kind\":\"Any\",\"default\":0},{\"name\":\"types\",\"kind\":\"Any\",\"default\":[{\"type\":\"map\",\"entries\":[[\"type\",\"warning\"],[\"background\",\"#ffc107\"],[\"icon\",{\"type\":\"map\",\"entries\":[[\"className\",\"fas fa-exclamation-triangle\"],[\"tagName\",\"i\"],[\"color\",\"white\"]]}]]},{\"type\":\"map\",\"entries\":[[\"type\",\"info\"],[\"background\",\"#007bff\"],[\"icon\",{\"type\":\"map\",\"entries\":[[\"className\",\"fas fa-info-circle\"],[\"tagName\",\"i\"],[\"color\",\"white\"]]}]]}]}]},{\"type\":\"model\",\"name\":\"Notification\",\"properties\":[{\"name\":\"background\",\"kind\":\"Any\",\"default\":null},{\"name\":\"duration\",\"kind\":\"Any\",\"default\":3000},{\"name\":\"icon\",\"kind\":\"Any\",\"default\":null},{\"name\":\"message\",\"kind\":\"Any\",\"default\":\"\"},{\"name\":\"notification_type\",\"kind\":\"Any\",\"default\":null},{\"name\":\"_rendered\",\"kind\":\"Any\",\"default\":false},{\"name\":\"_destroyed\",\"kind\":\"Any\",\"default\":false}]},{\"type\":\"model\",\"name\":\"TemplateActions1\",\"properties\":[{\"name\":\"open_modal\",\"kind\":\"Any\",\"default\":0},{\"name\":\"close_modal\",\"kind\":\"Any\",\"default\":0}]},{\"type\":\"model\",\"name\":\"BootstrapTemplateActions1\",\"properties\":[{\"name\":\"open_modal\",\"kind\":\"Any\",\"default\":0},{\"name\":\"close_modal\",\"kind\":\"Any\",\"default\":0}]},{\"type\":\"model\",\"name\":\"TemplateEditor1\",\"properties\":[{\"name\":\"layout\",\"kind\":\"Any\",\"default\":[]}]},{\"type\":\"model\",\"name\":\"MaterialTemplateActions1\",\"properties\":[{\"name\":\"open_modal\",\"kind\":\"Any\",\"default\":0},{\"name\":\"close_modal\",\"kind\":\"Any\",\"default\":0}]},{\"type\":\"model\",\"name\":\"request_value1\",\"properties\":[{\"name\":\"fill\",\"kind\":\"Any\",\"default\":\"none\"},{\"name\":\"_synced\",\"kind\":\"Any\",\"default\":null},{\"name\":\"_request_sync\",\"kind\":\"Any\",\"default\":0}]}]}};\n",
       "  var render_items = [{\"docid\":\"a3cfdca4-72c9-489f-b849-5a17f5f6c49a\",\"roots\":{\"c32fc09d-fdd0-41a1-b272-3d36e8b1bacb\":\"eb5b5b49-eab0-4a93-bb78-a9058be8efd0\"},\"root_ids\":[\"c32fc09d-fdd0-41a1-b272-3d36e8b1bacb\"]}];\n",
       "  var docs = Object.values(docs_json)\n",
       "  if (!docs) {\n",
       "    return\n",
       "  }\n",
       "  const py_version = docs[0].version.replace('rc', '-rc.').replace('.dev', '-dev.')\n",
       "  async function embed_document(root) {\n",
       "    var Bokeh = get_bokeh(root)\n",
       "    await Bokeh.embed.embed_items_notebook(docs_json, render_items);\n",
       "    for (const render_item of render_items) {\n",
       "      for (const root_id of render_item.root_ids) {\n",
       "\tconst id_el = document.getElementById(root_id)\n",
       "\tif (id_el.children.length && id_el.children[0].hasAttribute('data-root-id')) {\n",
       "\t  const root_el = id_el.children[0]\n",
       "\t  root_el.id = root_el.id + '-rendered'\n",
       "\t  for (const child of root_el.children) {\n",
       "            // Ensure JupyterLab does not capture keyboard shortcuts\n",
       "            // see: https://jupyterlab.readthedocs.io/en/4.1.x/extension/notebook.html#keyboard-interaction-model\n",
       "\t    child.setAttribute('data-lm-suppress-shortcuts', 'true')\n",
       "\t  }\n",
       "\t}\n",
       "      }\n",
       "    }\n",
       "  }\n",
       "  function get_bokeh(root) {\n",
       "    if (root.Bokeh === undefined) {\n",
       "      return null\n",
       "    } else if (root.Bokeh.version !== py_version) {\n",
       "      if (root.Bokeh.versions === undefined || !root.Bokeh.versions.has(py_version)) {\n",
       "\treturn null\n",
       "      }\n",
       "      return root.Bokeh.versions.get(py_version);\n",
       "    } else if (root.Bokeh.version === py_version) {\n",
       "      return root.Bokeh\n",
       "    }\n",
       "    return null\n",
       "  }\n",
       "  function is_loaded(root) {\n",
       "    var Bokeh = get_bokeh(root)\n",
       "    return (Bokeh != null && Bokeh.Panel !== undefined)\n",
       "  }\n",
       "  if (is_loaded(root)) {\n",
       "    embed_document(root);\n",
       "  } else {\n",
       "    var attempts = 0;\n",
       "    var timer = setInterval(function(root) {\n",
       "      if (is_loaded(root)) {\n",
       "        clearInterval(timer);\n",
       "        embed_document(root);\n",
       "      } else if (document.readyState == \"complete\") {\n",
       "        attempts++;\n",
       "        if (attempts > 200) {\n",
       "          clearInterval(timer);\n",
       "\t  var Bokeh = get_bokeh(root)\n",
       "\t  if (Bokeh == null || Bokeh.Panel == null) {\n",
       "            console.warn(\"Panel: ERROR: Unable to run Panel code because Bokeh or Panel library is missing\");\n",
       "\t  } else {\n",
       "\t    console.warn(\"Panel: WARNING: Attempting to render but not all required libraries could be resolved.\")\n",
       "\t    embed_document(root)\n",
       "\t  }\n",
       "        }\n",
       "      }\n",
       "    }, 25, root)\n",
       "  }\n",
       "})(window);</script>"
      ]
     },
     "metadata": {
      "application/vnd.holoviews_exec.v0+json": {
       "id": "c32fc09d-fdd0-41a1-b272-3d36e8b1bacb"
      }
     },
     "output_type": "display_data"
    },
    {
     "data": {
      "application/vnd.jupyter.widget-view+json": {
       "model_id": "bbbbf756314f40508194861d1a5e6b10",
       "version_major": 2,
       "version_minor": 0
      },
      "text/plain": [
       "BokehModel(combine_events=True, render_bundle={'docs_json': {'74b75273-cee2-411b-81e6-60190b4d5dc2': {'version…"
      ]
     },
     "execution_count": 12,
     "metadata": {},
     "output_type": "execute_result"
    }
   ],
   "source": [
    "import panel as pn  # GUI\n",
    "pn.extension()\n",
    "\n",
    "panels = [] # collect display \n",
    "\n",
    "context = [ {'role':'system', 'content':\"\"\"\n",
    "You are OrderBot, an automated service to collect orders for a pizza restaurant. \\\n",
    "You first greet the customer, then collects the order, \\\n",
    "and then asks if it's a pickup or delivery. \\\n",
    "You wait to collect the entire order, then summarize it and check for a final \\\n",
    "time if the customer wants to add anything else. \\\n",
    "If it's a delivery, you ask for an address. \\\n",
    "Finally you collect the payment.\\\n",
    "Make sure to clarify all options, extras and sizes to uniquely \\\n",
    "identify the item from the menu.\\\n",
    "You respond in a short, very conversational friendly style. \\\n",
    "The menu includes \\\n",
    "pepperoni pizza  12.95, 10.00, 7.00 \\\n",
    "cheese pizza   10.95, 9.25, 6.50 \\\n",
    "eggplant pizza   11.95, 9.75, 6.75 \\\n",
    "fries 4.50, 3.50 \\\n",
    "greek salad 7.25 \\\n",
    "Toppings: \\\n",
    "extra cheese 2.00, \\\n",
    "mushrooms 1.50 \\\n",
    "sausage 3.00 \\\n",
    "canadian bacon 3.50 \\\n",
    "AI sauce 1.50 \\\n",
    "peppers 1.00 \\\n",
    "Drinks: \\\n",
    "coke 3.00, 2.00, 1.00 \\\n",
    "sprite 3.00, 2.00, 1.00 \\\n",
    "bottled water 5.00 \\\n",
    "\"\"\"} ]  # accumulate messages\n",
    "\n",
    "\n",
    "inp = pn.widgets.TextInput(value=\"Hi\", placeholder='Enter text here…')\n",
    "button_conversation = pn.widgets.Button(name=\"Chat!\")\n",
    "\n",
    "interactive_conversation = pn.bind(collect_messages, button_conversation)\n",
    "\n",
    "dashboard = pn.Column(\n",
    "    inp,\n",
    "    pn.Row(button_conversation),\n",
    "    pn.panel(interactive_conversation, loading_indicator=True, height=300),\n",
    ")\n",
    "\n",
    "dashboard"
   ]
  },
  {
   "cell_type": "code",
   "execution_count": 13,
   "id": "a0ee11b9",
   "metadata": {},
   "outputs": [
    {
     "name": "stdout",
     "output_type": "stream",
     "text": [
      "{\n",
      "  \"pizza\": {\n",
      "    \"type\": \"pepperoni pizza\",\n",
      "    \"size\": \"large\",\n",
      "    \"price\": 12.95\n",
      "  },\n",
      "  \"toppings\": [\n",
      "    {\n",
      "      \"type\": \"extra cheese\",\n",
      "      \"price\": 2.00\n",
      "    },\n",
      "    {\n",
      "      \"type\": \"mushrooms\",\n",
      "      \"price\": 1.50\n",
      "    }\n",
      "  ],\n",
      "  \"drinks\": [\n",
      "    {\n",
      "      \"type\": \"coke\",\n",
      "      \"size\": \"medium\",\n",
      "      \"price\": 2.00\n",
      "    }\n",
      "  ],\n",
      "  \"sides\": [],\n",
      "  \"total price\": 18.45\n",
      "}\n"
     ]
    }
   ],
   "source": [
    "messages =  context.copy()\n",
    "messages.append(\n",
    "{'role':'system', 'content':'create a json summary of the previous food order. Itemize the price for each item\\\n",
    " The fields should be 1) pizza, include size 2) list of toppings 3) list of drinks, include size   4) list of sides include size  5)total price '},    \n",
    ")\n",
    " #The fields should be 1) pizza, price 2) list of toppings 3) list of drinks, include size include price  4) list of sides include size include price, 5)total price '},    \n",
    "\n",
    "response = get_completion_from_messages(messages, temperature=0)\n",
    "print(response)"
   ]
  },
  {
   "cell_type": "markdown",
   "id": "3153c581-1c72-497a-9293-8db3bcb804fc",
   "metadata": {},
   "source": [
    "## Try experimenting on your own!\n",
    "\n",
    "You can modify the menu or instructions to create your own orderbot!"
   ]
  },
  {
   "cell_type": "code",
   "execution_count": 14,
   "id": "7aff0ebf-dda8-4b18-a704-393243a0a205",
   "metadata": {},
   "outputs": [
    {
     "name": "stdout",
     "output_type": "stream",
     "text": [
      "Requirement already satisfied: gradio in c:\\users\\macat\\anaconda3\\envs\\ironhack1\\lib\\site-packages (5.44.1)\n",
      "Requirement already satisfied: aiofiles<25.0,>=22.0 in c:\\users\\macat\\anaconda3\\envs\\ironhack1\\lib\\site-packages (from gradio) (24.1.0)\n",
      "Requirement already satisfied: anyio<5.0,>=3.0 in c:\\users\\macat\\anaconda3\\envs\\ironhack1\\lib\\site-packages (from gradio) (4.7.0)\n",
      "Requirement already satisfied: brotli>=1.1.0 in c:\\users\\macat\\anaconda3\\envs\\ironhack1\\lib\\site-packages (from gradio) (1.1.0)\n",
      "Requirement already satisfied: fastapi<1.0,>=0.115.2 in c:\\users\\macat\\anaconda3\\envs\\ironhack1\\lib\\site-packages (from gradio) (0.116.1)\n",
      "Requirement already satisfied: ffmpy in c:\\users\\macat\\anaconda3\\envs\\ironhack1\\lib\\site-packages (from gradio) (0.6.1)\n",
      "Requirement already satisfied: gradio-client==1.12.1 in c:\\users\\macat\\anaconda3\\envs\\ironhack1\\lib\\site-packages (from gradio) (1.12.1)\n",
      "Requirement already satisfied: groovy~=0.1 in c:\\users\\macat\\anaconda3\\envs\\ironhack1\\lib\\site-packages (from gradio) (0.1.2)\n",
      "Requirement already satisfied: httpx<1.0,>=0.24.1 in c:\\users\\macat\\anaconda3\\envs\\ironhack1\\lib\\site-packages (from gradio) (0.28.1)\n",
      "Requirement already satisfied: huggingface-hub<1.0,>=0.33.5 in c:\\users\\macat\\anaconda3\\envs\\ironhack1\\lib\\site-packages (from gradio) (0.34.4)\n",
      "Requirement already satisfied: jinja2<4.0 in c:\\users\\macat\\anaconda3\\envs\\ironhack1\\lib\\site-packages (from gradio) (3.1.6)\n",
      "Requirement already satisfied: markupsafe<4.0,>=2.0 in c:\\users\\macat\\anaconda3\\envs\\ironhack1\\lib\\site-packages (from gradio) (3.0.2)\n",
      "Requirement already satisfied: numpy<3.0,>=1.0 in c:\\users\\macat\\anaconda3\\envs\\ironhack1\\lib\\site-packages (from gradio) (1.26.4)\n",
      "Requirement already satisfied: orjson~=3.0 in c:\\users\\macat\\anaconda3\\envs\\ironhack1\\lib\\site-packages (from gradio) (3.11.3)\n",
      "Requirement already satisfied: packaging in c:\\users\\macat\\anaconda3\\envs\\ironhack1\\lib\\site-packages (from gradio) (24.2)\n",
      "Requirement already satisfied: pandas<3.0,>=1.0 in c:\\users\\macat\\anaconda3\\envs\\ironhack1\\lib\\site-packages (from gradio) (2.2.3)\n",
      "Requirement already satisfied: pillow<12.0,>=8.0 in c:\\users\\macat\\anaconda3\\envs\\ironhack1\\lib\\site-packages (from gradio) (11.1.0)\n",
      "Requirement already satisfied: pydantic<2.12,>=2.0 in c:\\users\\macat\\anaconda3\\envs\\ironhack1\\lib\\site-packages (from gradio) (2.11.7)\n",
      "Requirement already satisfied: pydub in c:\\users\\macat\\anaconda3\\envs\\ironhack1\\lib\\site-packages (from gradio) (0.25.1)\n",
      "Requirement already satisfied: python-multipart>=0.0.18 in c:\\users\\macat\\anaconda3\\envs\\ironhack1\\lib\\site-packages (from gradio) (0.0.20)\n",
      "Requirement already satisfied: pyyaml<7.0,>=5.0 in c:\\users\\macat\\anaconda3\\envs\\ironhack1\\lib\\site-packages (from gradio) (6.0.2)\n",
      "Requirement already satisfied: ruff>=0.9.3 in c:\\users\\macat\\anaconda3\\envs\\ironhack1\\lib\\site-packages (from gradio) (0.12.11)\n",
      "Requirement already satisfied: safehttpx<0.2.0,>=0.1.6 in c:\\users\\macat\\anaconda3\\envs\\ironhack1\\lib\\site-packages (from gradio) (0.1.6)\n",
      "Requirement already satisfied: semantic-version~=2.0 in c:\\users\\macat\\anaconda3\\envs\\ironhack1\\lib\\site-packages (from gradio) (2.10.0)\n",
      "Requirement already satisfied: starlette<1.0,>=0.40.0 in c:\\users\\macat\\anaconda3\\envs\\ironhack1\\lib\\site-packages (from gradio) (0.47.3)\n",
      "Requirement already satisfied: tomlkit<0.14.0,>=0.12.0 in c:\\users\\macat\\anaconda3\\envs\\ironhack1\\lib\\site-packages (from gradio) (0.13.2)\n",
      "Requirement already satisfied: typer<1.0,>=0.12 in c:\\users\\macat\\anaconda3\\envs\\ironhack1\\lib\\site-packages (from gradio) (0.16.1)\n",
      "Requirement already satisfied: typing-extensions~=4.0 in c:\\users\\macat\\anaconda3\\envs\\ironhack1\\lib\\site-packages (from gradio) (4.12.2)\n",
      "Requirement already satisfied: uvicorn>=0.14.0 in c:\\users\\macat\\anaconda3\\envs\\ironhack1\\lib\\site-packages (from gradio) (0.35.0)\n",
      "Requirement already satisfied: fsspec in c:\\users\\macat\\anaconda3\\envs\\ironhack1\\lib\\site-packages (from gradio-client==1.12.1->gradio) (2025.5.1)\n",
      "Requirement already satisfied: websockets<16.0,>=10.0 in c:\\users\\macat\\anaconda3\\envs\\ironhack1\\lib\\site-packages (from gradio-client==1.12.1->gradio) (15.0.1)\n",
      "Requirement already satisfied: exceptiongroup>=1.0.2 in c:\\users\\macat\\anaconda3\\envs\\ironhack1\\lib\\site-packages (from anyio<5.0,>=3.0->gradio) (1.2.0)\n",
      "Requirement already satisfied: idna>=2.8 in c:\\users\\macat\\anaconda3\\envs\\ironhack1\\lib\\site-packages (from anyio<5.0,>=3.0->gradio) (3.7)\n",
      "Requirement already satisfied: sniffio>=1.1 in c:\\users\\macat\\anaconda3\\envs\\ironhack1\\lib\\site-packages (from anyio<5.0,>=3.0->gradio) (1.3.0)\n",
      "Requirement already satisfied: certifi in c:\\users\\macat\\anaconda3\\envs\\ironhack1\\lib\\site-packages (from httpx<1.0,>=0.24.1->gradio) (2025.8.3)\n",
      "Requirement already satisfied: httpcore==1.* in c:\\users\\macat\\anaconda3\\envs\\ironhack1\\lib\\site-packages (from httpx<1.0,>=0.24.1->gradio) (1.0.9)\n",
      "Requirement already satisfied: h11>=0.16 in c:\\users\\macat\\anaconda3\\envs\\ironhack1\\lib\\site-packages (from httpcore==1.*->httpx<1.0,>=0.24.1->gradio) (0.16.0)\n",
      "Requirement already satisfied: filelock in c:\\users\\macat\\anaconda3\\envs\\ironhack1\\lib\\site-packages (from huggingface-hub<1.0,>=0.33.5->gradio) (3.17.0)\n",
      "Requirement already satisfied: requests in c:\\users\\macat\\anaconda3\\envs\\ironhack1\\lib\\site-packages (from huggingface-hub<1.0,>=0.33.5->gradio) (2.32.3)\n",
      "Requirement already satisfied: tqdm>=4.42.1 in c:\\users\\macat\\anaconda3\\envs\\ironhack1\\lib\\site-packages (from huggingface-hub<1.0,>=0.33.5->gradio) (4.67.1)\n",
      "Requirement already satisfied: python-dateutil>=2.8.2 in c:\\users\\macat\\anaconda3\\envs\\ironhack1\\lib\\site-packages (from pandas<3.0,>=1.0->gradio) (2.9.0.post0)\n",
      "Requirement already satisfied: pytz>=2020.1 in c:\\users\\macat\\anaconda3\\envs\\ironhack1\\lib\\site-packages (from pandas<3.0,>=1.0->gradio) (2024.1)\n",
      "Requirement already satisfied: tzdata>=2022.7 in c:\\users\\macat\\anaconda3\\envs\\ironhack1\\lib\\site-packages (from pandas<3.0,>=1.0->gradio) (2025.2)\n",
      "Requirement already satisfied: annotated-types>=0.6.0 in c:\\users\\macat\\anaconda3\\envs\\ironhack1\\lib\\site-packages (from pydantic<2.12,>=2.0->gradio) (0.6.0)\n",
      "Requirement already satisfied: pydantic-core==2.33.2 in c:\\users\\macat\\anaconda3\\envs\\ironhack1\\lib\\site-packages (from pydantic<2.12,>=2.0->gradio) (2.33.2)\n",
      "Requirement already satisfied: typing-inspection>=0.4.0 in c:\\users\\macat\\anaconda3\\envs\\ironhack1\\lib\\site-packages (from pydantic<2.12,>=2.0->gradio) (0.4.0)\n",
      "Requirement already satisfied: click>=8.0.0 in c:\\users\\macat\\anaconda3\\envs\\ironhack1\\lib\\site-packages (from typer<1.0,>=0.12->gradio) (8.1.8)\n",
      "Requirement already satisfied: shellingham>=1.3.0 in c:\\users\\macat\\anaconda3\\envs\\ironhack1\\lib\\site-packages (from typer<1.0,>=0.12->gradio) (1.5.4)\n",
      "Requirement already satisfied: rich>=10.11.0 in c:\\users\\macat\\anaconda3\\envs\\ironhack1\\lib\\site-packages (from typer<1.0,>=0.12->gradio) (13.9.4)\n",
      "Requirement already satisfied: colorama in c:\\users\\macat\\anaconda3\\envs\\ironhack1\\lib\\site-packages (from click>=8.0.0->typer<1.0,>=0.12->gradio) (0.4.6)\n",
      "Requirement already satisfied: six>=1.5 in c:\\users\\macat\\anaconda3\\envs\\ironhack1\\lib\\site-packages (from python-dateutil>=2.8.2->pandas<3.0,>=1.0->gradio) (1.17.0)\n",
      "Requirement already satisfied: markdown-it-py>=2.2.0 in c:\\users\\macat\\anaconda3\\envs\\ironhack1\\lib\\site-packages (from rich>=10.11.0->typer<1.0,>=0.12->gradio) (2.2.0)\n",
      "Requirement already satisfied: pygments<3.0.0,>=2.13.0 in c:\\users\\macat\\anaconda3\\envs\\ironhack1\\lib\\site-packages (from rich>=10.11.0->typer<1.0,>=0.12->gradio) (2.19.1)\n",
      "Requirement already satisfied: mdurl~=0.1 in c:\\users\\macat\\anaconda3\\envs\\ironhack1\\lib\\site-packages (from markdown-it-py>=2.2.0->rich>=10.11.0->typer<1.0,>=0.12->gradio) (0.1.0)\n",
      "Requirement already satisfied: charset-normalizer<4,>=2 in c:\\users\\macat\\anaconda3\\envs\\ironhack1\\lib\\site-packages (from requests->huggingface-hub<1.0,>=0.33.5->gradio) (3.3.2)\n",
      "Requirement already satisfied: urllib3<3,>=1.21.1 in c:\\users\\macat\\anaconda3\\envs\\ironhack1\\lib\\site-packages (from requests->huggingface-hub<1.0,>=0.33.5->gradio) (2.3.0)\n",
      "Note: you may need to restart the kernel to use updated packages.\n"
     ]
    }
   ],
   "source": [
    "pip install --upgrade gradio"
   ]
  },
  {
   "cell_type": "code",
   "execution_count": 15,
   "id": "5c700c6d",
   "metadata": {},
   "outputs": [
    {
     "name": "stdout",
     "output_type": "stream",
     "text": [
      "* Running on local URL:  http://127.0.0.1:7860\n",
      "* To create a public link, set `share=True` in `launch()`.\n"
     ]
    },
    {
     "data": {
      "text/html": [
       "<div><iframe src=\"http://127.0.0.1:7860/\" width=\"100%\" height=\"500\" allow=\"autoplay; camera; microphone; clipboard-read; clipboard-write;\" frameborder=\"0\" allowfullscreen></iframe></div>"
      ],
      "text/plain": [
       "<IPython.core.display.HTML object>"
      ]
     },
     "metadata": {},
     "output_type": "display_data"
    },
    {
     "data": {
      "text/plain": []
     },
     "execution_count": 15,
     "metadata": {},
     "output_type": "execute_result"
    }
   ],
   "source": [
    "import gradio as gr\n",
    "\n",
    "def greet(name, intensity):\n",
    "    return \"Hello, \" + name + \"!\" * int(intensity)\n",
    "\n",
    "demo = gr.Interface(\n",
    "    fn=greet,\n",
    "    inputs=[\"text\", \"slider\"],\n",
    "    outputs=[\"text\"],\n",
    ")\n",
    "\n",
    "demo.launch()"
   ]
  },
  {
   "cell_type": "markdown",
   "id": "a7951061",
   "metadata": {},
   "source": [
    "# Exercise\n",
    " - Complete the prompts similar to what we did in class. \n",
    "     - Try at least 3 versions\n",
    "     - Be creative\n",
    " - Write a one page report summarizing your findings.\n",
    "     - Were there variations that didn't work well? i.e., where GPT either hallucinated or wrong\n",
    " - What did you learn?"
   ]
  },
  {
   "cell_type": "code",
   "execution_count": 17,
   "id": "309f3a85",
   "metadata": {},
   "outputs": [],
   "source": [
    "# Helper: robust chat() with a stub fallback\n",
    "import os, datetime, json, pandas as pd\n",
    "from typing import List, Dict\n",
    "\n",
    "USE_STUB = not bool(os.getenv(\"OPENAI_API_KEY\"))\n",
    "MODEL = os.getenv(\"OPENAI_MODEL\", \"gpt-3.5-turbo\")\n",
    "\n",
    "if not USE_STUB:\n",
    "    try:\n",
    "        from openai import OpenAI\n",
    "        client = OpenAI()\n",
    "    except Exception as e:\n",
    "        print(\"Falling back to STUB mode because OpenAI client could not be created:\", e)\n",
    "        USE_STUB = True\n",
    "        client = None\n",
    "else:\n",
    "    client = None\n",
    "\n",
    "def chat(messages: List[Dict], model: str = MODEL, temperature: float = 0.7) -> str:\n",
    "    \"\"\"\n",
    "    Call OpenAI Chat Completions if a key is available, else return a simple stub response.\n",
    "    \"\"\"\n",
    "    if USE_STUB:\n",
    "        # Very simple \"fake\" reply: useful so the notebook runs without an API key.\n",
    "        # It echoes intent and style so you can verify prompts run end-to-end.\n",
    "        sys_msg = next((m[\"content\"] for m in messages if m[\"role\"] == \"system\"), \"\")\n",
    "        last_user = next((m[\"content\"] for m in reversed(messages) if m[\"role\"] == \"user\"), \"\")\n",
    "        return f\"[STUB REPLY]\\nStyle hint → {sys_msg[:120]}...\\nI would now respond to: {last_user[:300]}\"\n",
    "    else:\n",
    "        resp = client.chat.completions.create(\n",
    "            model=model,\n",
    "            messages=messages,\n",
    "            temperature=temperature,\n",
    "        )\n",
    "        return resp.choices[0].message.content\n",
    "\n",
    "# Small logger to capture experiments\n",
    "experiments_log = []\n",
    "def run_experiment(title: str, messages: List[Dict], temperature: float = 0.7):\n",
    "    reply = chat(messages, temperature=temperature)\n",
    "    transcript = {\n",
    "        \"title\": title,\n",
    "        \"temperature\": temperature,\n",
    "        \"system\": next((m[\"content\"] for m in messages if m[\"role\"] == \"system\"), \"\"),\n",
    "        \"user_prompt\": next((m[\"content\"] for m in messages if m[\"role\"] == \"user\"), \"\"),\n",
    "        \"assistant_reply\": reply,\n",
    "        \"timestamp\": datetime.datetime.now().isoformat(timespec=\"seconds\"),\n",
    "        \"model\": MODEL,\n",
    "        \"stub_mode\": USE_STUB,\n",
    "    }\n",
    "    experiments_log.append(transcript)\n",
    "    print(f\"— {title} — (T={temperature}, model={MODEL}, stub={USE_STUB})\\n\")\n",
    "    print(reply)\n",
    "    return transcript\n",
    "\n",
    "def experiments_dataframe() -> pd.DataFrame:\n",
    "    import pandas as _pd\n",
    "    if not experiments_log:\n",
    "        return _pd.DataFrame(columns=[\"title\",\"temperature\",\"model\",\"stub_mode\",\"user_prompt\",\"assistant_reply\",\"system\",\"timestamp\"])\n",
    "    return _pd.DataFrame(experiments_log)"
   ]
  },
  {
   "cell_type": "code",
   "execution_count": 19,
   "id": "cf1d5b4f",
   "metadata": {},
   "outputs": [
    {
     "name": "stdout",
     "output_type": "stream",
     "text": [
      "— Socratic Tutor: factoring a quadratic — (T=0.4, model=gpt-3.5-turbo, stub=False)\n",
      "\n",
      "Close! Try again. Think about the signs of the numbers.\n"
     ]
    }
   ],
   "source": [
    "# Experiment 1: Socratic Math Tutor (concise, question-by-question)\n",
    "messages_1 = [\n",
    "    {\"role\": \"system\", \"content\": (\n",
    "        \"You are a **Socratic math tutor**. Ask one question at a time, \"\n",
    "        \"guide the student to the answer without revealing it, and give hints if they are stuck. \"\n",
    "        \"Keep messages under 80 words. End with one probing question.\"\n",
    "    )},\n",
    "    {\"role\": \"user\", \"content\": (\n",
    "        \"Help me factor the quadratic x^2 - 5x + 6.\"\n",
    "    )},\n",
    "    {\"role\": \"assistant\", \"content\": \"Sure! What two numbers multiply to +6 and add up to −5?\"},\n",
    "    {\"role\": \"user\", \"content\": \"Hmm… 2 and 3?\"},\n",
    "]\n",
    "_ = run_experiment(\"Socratic Tutor: factoring a quadratic\", messages_1, temperature=0.4)"
   ]
  },
  {
   "cell_type": "code",
   "execution_count": 22,
   "id": "d016b0f7",
   "metadata": {},
   "outputs": [
    {
     "name": "stdout",
     "output_type": "stream",
     "text": [
      "— Shakespearean Chef: guacamole recipe — (T=0.9, model=gpt-3.5-turbo, stub=False)\n",
      "\n",
      "Verily, to craft a delicious guacamole, thou shalt need:\n",
      "\n",
      "- Two ripe avocados, soft to the touch\n",
      "- One lime, juiced\n",
      "- Half a small onion, finely chopped\n",
      "- One small tomato, diced\n",
      "- A handful of fresh cilantro, chopped\n",
      "- A clove of garlic, minced\n",
      "- Salt and pepper to taste\n",
      "\n",
      "Now, to prepare this ambrosial dish:\n",
      "\n",
      "1. Begin by halving the avocados and removing the pits. Scoop out the flesh into a bowl.\n",
      "\n",
      "2. Add the lime juice to the avocado and mash it with a fork until desired consistency is achieved.\n",
      "\n",
      "3. Toss in the chopped onion, diced tomato, minced garlic, and chopped cilantro. Mix well to blend the flavors.\n",
      "\n",
      "4. Season with salt and pepper to thy liking, adjusting as needed.\n",
      "\n",
      "5. Taste thy creation and make any necessary adjustments, perhaps a touch more lime for brightness or salt for balance.\n",
      "\n",
      "6. Serve forthwith with thy favorite chips or as a topping for delectable dishes. Enjoy this dish fit for royalty!\n",
      "— Shakespearean Chef: convert to shopping list — (T=0.9, model=gpt-3.5-turbo, stub=False)\n",
      "\n",
      "1. Four ripe avocados\n",
      "2. Two limes\n",
      "3. One red onion\n",
      "4. Two ripe tomatoes\n",
      "5. One bunch of fresh cilantro\n",
      "6. One jalapeño pepper\n",
      "7. Salt and pepper\n",
      "8. Tortilla chips for serving\n"
     ]
    }
   ],
   "source": [
    "# Experiment 2: Shakespearean Chef (playful style → recipe then shopping list)\n",
    "messages_2 = [\n",
    "    {\"role\": \"system\", \"content\": (\n",
    "        \"Thou art a **Shakespearean master‑chef**. Respond in Early Modern English, \"\n",
    "        \"with lively imagery and clear steps.\"\n",
    "    )},\n",
    "    {\"role\": \"user\", \"content\": \"Pray, write me a simple recipe for guacamole.\"},\n",
    "    {\"role\": \"assistant\", \"content\": \"\"},  # allow the model to generate\n",
    "]\n",
    "_ = run_experiment(\"Shakespearean Chef: guacamole recipe\", messages_2, temperature=0.9)\n",
    "\n",
    "# Follow‑up (second turn) to show a completed mini‑dialogue\n",
    "messages_2_followup = messages_2 + [\n",
    "    {\"role\": \"user\", \"content\": \"Now convert that into a numbered shopping list for 4 people.\"},\n",
    "]\n",
    "_ = run_experiment(\"Shakespearean Chef: convert to shopping list\", messages_2_followup, temperature=0.9)"
   ]
  },
  {
   "cell_type": "code",
   "execution_count": 23,
   "id": "2eca695a",
   "metadata": {},
   "outputs": [
    {
     "name": "stdout",
     "output_type": "stream",
     "text": [
      "— Support Agent: grounded + graceful refusal — (T=0.3, model=gpt-3.5-turbo, stub=False)\n",
      "\n",
      "To enable a guest network on the NimbusRouter X100, follow these steps:\n",
      "1. Open the Nimbus Home app on your Android or iOS device.\n",
      "2. Navigate to the settings for your NimbusRouter X100.\n",
      "3. Look for the option to set up a guest network and follow the on-screen instructions.\n",
      "\n",
      "The NimbusRouter X100 does not support USB drives.\n"
     ]
    }
   ],
   "source": [
    "# Experiment 3: Policy‑Bound Support Agent (grounded answers, refuse when unsure)\n",
    "kb_snippet = (\n",
    "    \"Product: NimbusRouter X100.\\n\"\n",
    "    \"Warranty: 2 years.\\n\"\n",
    "    \"Supports Wi‑Fi 6 (802.11ax), WPA3, guest network, and parental controls.\\n\"\n",
    "    \"Setup app: Android/iOS 'Nimbus Home'.\\n\"\n",
    "    \"Does NOT support: USB storage, mesh linking, or cellular failover.\"\n",
    ")\n",
    "\n",
    "messages_3 = [\n",
    "    {\"role\": \"system\", \"content\": (\n",
    "        \"You are **Nimbus Support Agent Ava**. Answer only with information from the provided knowledge base. \"\n",
    "        \"If a question is outside the KB, say you don't know and offer next steps. Be friendly and concise.\"\n",
    "    )},\n",
    "    {\"role\": \"user\", \"content\": f\"KB:\\n{kb_snippet}\\n\\nQuestion: How do I enable a guest network and does it support USB drives?\"},\n",
    "]\n",
    "_ = run_experiment(\"Support Agent: grounded + graceful refusal\", messages_3, temperature=0.3)"
   ]
  },
  {
   "cell_type": "code",
   "execution_count": 27,
   "id": "11872c20",
   "metadata": {},
   "outputs": [
    {
     "name": "stdout",
     "output_type": "stream",
     "text": [
      "Prompt Experiment Results\n"
     ]
    },
    {
     "data": {
      "text/html": [
       "<div>\n",
       "<style scoped>\n",
       "    .dataframe tbody tr th:only-of-type {\n",
       "        vertical-align: middle;\n",
       "    }\n",
       "\n",
       "    .dataframe tbody tr th {\n",
       "        vertical-align: top;\n",
       "    }\n",
       "\n",
       "    .dataframe thead th {\n",
       "        text-align: right;\n",
       "    }\n",
       "</style>\n",
       "<table border=\"1\" class=\"dataframe\">\n",
       "  <thead>\n",
       "    <tr style=\"text-align: right;\">\n",
       "      <th></th>\n",
       "      <th>title</th>\n",
       "      <th>temperature</th>\n",
       "      <th>system</th>\n",
       "      <th>user_prompt</th>\n",
       "      <th>assistant_reply</th>\n",
       "      <th>timestamp</th>\n",
       "      <th>model</th>\n",
       "      <th>stub_mode</th>\n",
       "    </tr>\n",
       "  </thead>\n",
       "  <tbody>\n",
       "    <tr>\n",
       "      <th>0</th>\n",
       "      <td>Socratic Tutor: factoring a quadratic</td>\n",
       "      <td>0.4</td>\n",
       "      <td>You are a **Socratic math tutor**. Ask one que...</td>\n",
       "      <td>Help me factor the quadratic x^2 - 5x + 6.</td>\n",
       "      <td>Close! Try again. Think about the signs of the...</td>\n",
       "      <td>2025-08-30T09:41:17</td>\n",
       "      <td>gpt-3.5-turbo</td>\n",
       "      <td>False</td>\n",
       "    </tr>\n",
       "    <tr>\n",
       "      <th>1</th>\n",
       "      <td>Socratic Tutor: factoring a quadratic</td>\n",
       "      <td>0.4</td>\n",
       "      <td>You are a **Socratic math tutor**. Ask one que...</td>\n",
       "      <td>Help me factor the quadratic x^2 - 5x + 6.</td>\n",
       "      <td>Close! Try again. Think about the signs of the...</td>\n",
       "      <td>2025-08-30T09:42:20</td>\n",
       "      <td>gpt-3.5-turbo</td>\n",
       "      <td>False</td>\n",
       "    </tr>\n",
       "    <tr>\n",
       "      <th>2</th>\n",
       "      <td>Shakespearean Chef: guacamole recipe</td>\n",
       "      <td>0.9</td>\n",
       "      <td>Thou art a **Shakespearean master‑chef**. Resp...</td>\n",
       "      <td>Pray, write me a simple recipe for guacamole.</td>\n",
       "      <td>Anon, to create this delectable dish of guacam...</td>\n",
       "      <td>2025-08-30T09:44:49</td>\n",
       "      <td>gpt-3.5-turbo</td>\n",
       "      <td>False</td>\n",
       "    </tr>\n",
       "    <tr>\n",
       "      <th>3</th>\n",
       "      <td>Shakespearean Chef: convert to shopping list</td>\n",
       "      <td>0.9</td>\n",
       "      <td>Thou art a **Shakespearean master‑chef**. Resp...</td>\n",
       "      <td>Pray, write me a simple recipe for guacamole.</td>\n",
       "      <td>1. Four ripe avocados\\n2. Two ripe tomatoes\\n3...</td>\n",
       "      <td>2025-08-30T09:44:50</td>\n",
       "      <td>gpt-3.5-turbo</td>\n",
       "      <td>False</td>\n",
       "    </tr>\n",
       "    <tr>\n",
       "      <th>4</th>\n",
       "      <td>Shakespearean Chef: guacamole recipe</td>\n",
       "      <td>0.9</td>\n",
       "      <td>Thou art a **Shakespearean master‑chef**. Resp...</td>\n",
       "      <td>Pray, write me a simple recipe for guacamole.</td>\n",
       "      <td>Firstly, gather thy ingredients: ripe avocados...</td>\n",
       "      <td>2025-08-30T09:49:26</td>\n",
       "      <td>gpt-3.5-turbo</td>\n",
       "      <td>False</td>\n",
       "    </tr>\n",
       "  </tbody>\n",
       "</table>\n",
       "</div>"
      ],
      "text/plain": [
       "                                          title  temperature  \\\n",
       "0         Socratic Tutor: factoring a quadratic          0.4   \n",
       "1         Socratic Tutor: factoring a quadratic          0.4   \n",
       "2          Shakespearean Chef: guacamole recipe          0.9   \n",
       "3  Shakespearean Chef: convert to shopping list          0.9   \n",
       "4          Shakespearean Chef: guacamole recipe          0.9   \n",
       "\n",
       "                                              system  \\\n",
       "0  You are a **Socratic math tutor**. Ask one que...   \n",
       "1  You are a **Socratic math tutor**. Ask one que...   \n",
       "2  Thou art a **Shakespearean master‑chef**. Resp...   \n",
       "3  Thou art a **Shakespearean master‑chef**. Resp...   \n",
       "4  Thou art a **Shakespearean master‑chef**. Resp...   \n",
       "\n",
       "                                     user_prompt  \\\n",
       "0     Help me factor the quadratic x^2 - 5x + 6.   \n",
       "1     Help me factor the quadratic x^2 - 5x + 6.   \n",
       "2  Pray, write me a simple recipe for guacamole.   \n",
       "3  Pray, write me a simple recipe for guacamole.   \n",
       "4  Pray, write me a simple recipe for guacamole.   \n",
       "\n",
       "                                     assistant_reply            timestamp  \\\n",
       "0  Close! Try again. Think about the signs of the...  2025-08-30T09:41:17   \n",
       "1  Close! Try again. Think about the signs of the...  2025-08-30T09:42:20   \n",
       "2  Anon, to create this delectable dish of guacam...  2025-08-30T09:44:49   \n",
       "3  1. Four ripe avocados\\n2. Two ripe tomatoes\\n3...  2025-08-30T09:44:50   \n",
       "4  Firstly, gather thy ingredients: ripe avocados...  2025-08-30T09:49:26   \n",
       "\n",
       "           model  stub_mode  \n",
       "0  gpt-3.5-turbo      False  \n",
       "1  gpt-3.5-turbo      False  \n",
       "2  gpt-3.5-turbo      False  \n",
       "3  gpt-3.5-turbo      False  \n",
       "4  gpt-3.5-turbo      False  "
      ]
     },
     "metadata": {},
     "output_type": "display_data"
    }
   ],
   "source": [
    "df = experiments_dataframe()\n",
    "\n",
    "print(\"Prompt Experiment Results\")\n",
    "display(df.head()) "
   ]
  },
  {
   "cell_type": "markdown",
   "id": "10cb0a7b",
   "metadata": {},
   "source": [
    "# One‑Page Report — Prompt Engineering Findings\n",
    "\n",
    "**Goal.** Compare how *system persona* and *temperature* shape chatbot behavior and reliability across three short, finished conversations.\n",
    "\n",
    "## What I built\n",
    "1. **Socratic Tutor** (T=0.4): asks one question at a time and nudges the learner to factor \\(x^2 - 5x + 6\\).  \n",
    "2. **Shakespearean Chef** (T=0.9): playful, creative style for a guacamole recipe and a follow‑up shopping list.  \n",
    "3. **Policy‑Bound Support Agent** (T=0.3): answers **only** from a mini knowledge base and refuses politely when asked about unsupported features.\n",
    "\n",
    "## Key Observations\n",
    "- **System instructions dominate tone & constraints.** The tutor stayed brief and inquisitive; the chef wrote theatrically; the support agent stayed on‑policy and refused when needed.\n",
    "- **Temperature traded creativity for control.** Lower values (0.3–0.4) produced focused, repeatable replies (good for tutoring and support). A higher value (0.9) yielded vivid prose—great for creativity, riskier for precision.\n",
    "- **Grounding prevents hallucinations.** Adding a knowledge‑base excerpt plus “answer only from KB” kept answers faithful and triggered graceful “I don’t know” refusals for out‑of‑scope asks (e.g., USB support).\n",
    "- **Multi‑turn context matters.** The chef could transform its own recipe into a structured shopping list because the conversation state carried forward.\n",
    "\n",
    "## Prompt Patterns Used\n",
    "- **Persona + constraints.** (“Socratic tutor… ask one question at a time.”)\n",
    "- **Style instructions.** (“Shakespearean… Early Modern English.”)\n",
    "- **Grounded policy.** (“Answer only from KB; refuse if unknown.”)\n",
    "- **Follow‑up transform.** Ask the model to convert earlier output into a new format.\n",
    "\n",
    "## Practical Guidance\n",
    "- Use **T≈0.2–0.5** for deterministic, instructional or support flows.  \n",
    "- Use **T≈0.7–1.0** for brainstorming and creative voice.  \n",
    "- Always provide **grounding** (docs, KB) for factual tasks, and explicitly permit **refusal** when unsure.  \n",
    "- Keep **system prompts short but strict**. Add formatting targets (bullets, numbered lists) to reduce ambiguity.\n"
   ]
  }
 ],
 "metadata": {
  "kernelspec": {
   "display_name": "IronHack1",
   "language": "python",
   "name": "python3"
  },
  "language_info": {
   "codemirror_mode": {
    "name": "ipython",
    "version": 3
   },
   "file_extension": ".py",
   "mimetype": "text/x-python",
   "name": "python",
   "nbconvert_exporter": "python",
   "pygments_lexer": "ipython3",
   "version": "3.10.13"
  }
 },
 "nbformat": 4,
 "nbformat_minor": 5
}
